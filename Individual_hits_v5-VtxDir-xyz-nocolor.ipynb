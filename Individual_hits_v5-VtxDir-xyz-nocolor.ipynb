{
 "cells": [
  {
   "cell_type": "code",
   "execution_count": 1,
   "metadata": {},
   "outputs": [],
   "source": [
    "import os\n",
    "import math\n",
    "\n",
    "import matplotlib.pyplot as plt \n",
    "\n",
    "import numpy as np\n",
    "import pandas as pd\n",
    "import random"
   ]
  },
  {
   "cell_type": "code",
   "execution_count": 2,
   "metadata": {},
   "outputs": [],
   "source": [
    "#global variables\n",
    "maxT = 37\n",
    "maxLambda = 800\n",
    "PAD_VALUE = -1\n",
    "NEvts = 1000\n",
    "pi = 3.141592653589793"
   ]
  },
  {
   "cell_type": "code",
   "execution_count": 3,
   "metadata": {},
   "outputs": [
    {
     "name": "stderr",
     "output_type": "stream",
     "text": [
      "Using TensorFlow backend.\n"
     ]
    }
   ],
   "source": [
    "from keras.utils import Sequence\n",
    "from keras.preprocessing.sequence import pad_sequences\n",
    "\n",
    "class MyGenerator(Sequence):\n",
    "    def __init__(self, x_dir, batch_size):\n",
    "        self.x_dir = x_dir\n",
    "        self.x = os.listdir(x_dir)\n",
    "        self.batch_size = batch_size\n",
    "        print('Generator init complete')\n",
    "        \n",
    "    def __len__(self):\n",
    "        nf = self.batch_size/(NEvts) # calculate number of files\n",
    "        return math.ceil(len(self.x) / nf)\n",
    "\n",
    "    def __getitem__(self, idx):\n",
    "        batch_data = np.load(os.path.join(self.x_dir, self.x[idx]))\n",
    "        Y = np.array(batch_data['y'])\n",
    "        ####Y = np.delete(Y,np.s_[-3:],1)\n",
    "        #Y = np.delete(Y,0,1)\n",
    "        #print(Y.shape,'  1  ',Y)\n",
    "        #print(Y[:,0].shape, ' <-test ')\n",
    "        #Y = np.hstack(( np.sin(Y[:,0]).reshape(1000,1), np.cos(Y[:,0]).reshape(1000,1), np.sin(Y[:,1]).reshape(1000,1), np.cos(Y[:,1]).reshape(1000,1), Y[:,2].reshape(1000,1) ))\n",
    "        #print(Y.shape,'   2 ',Y)\n",
    "        return np.array(batch_data['x']), Y"
   ]
  },
  {
   "cell_type": "code",
   "execution_count": 4,
   "metadata": {},
   "outputs": [
    {
     "name": "stdout",
     "output_type": "stream",
     "text": [
      "Generator init complete\n",
      "Generator init complete\n"
     ]
    }
   ],
   "source": [
    "training_generator = MyGenerator('/data/Elagin/vtx_xyz_nocolor_train_norm', NEvts)\n",
    "\n",
    "testing_generator = MyGenerator('/data/Elagin/vtx_xyz_nocolor_test_norm', NEvts)"
   ]
  },
  {
   "cell_type": "code",
   "execution_count": 5,
   "metadata": {},
   "outputs": [],
   "source": [
    "\n",
    "from keras.models import Sequential, Model\n",
    "from keras.layers import Dense, Activation, Flatten, Reshape, Lambda, Input, Concatenate, concatenate\n",
    "from keras.layers import Conv1D, Conv2D, Conv2DTranspose, UpSampling2D, MaxPooling1D, MaxPooling2D, LocallyConnected2D, LocallyConnected1D\n",
    "from keras.layers import LSTM, Bidirectional\n",
    "from keras.layers import Masking\n",
    "from keras.layers import LeakyReLU, Dropout\n",
    "from keras.layers import BatchNormalization\n",
    "from keras.optimizers import Adam, RMSprop\n",
    "from keras.utils import to_categorical\n",
    "import keras.backend as K"
   ]
  },
  {
   "cell_type": "code",
   "execution_count": 6,
   "metadata": {},
   "outputs": [],
   "source": [
    "def mapping_to_pmOne(x) :\n",
    "    return 2*K.sigmoid(x) - 1\n",
    "\n",
    "def mapping_to_pm50(x) :\n",
    "    return mapping_to_pmOne(x)*50\n",
    "\n",
    "\n",
    "def mapping_to_0_50(x) :\n",
    "    return 50*K.sigmoid(x)\n",
    "\n",
    "\n",
    "def mapping_to_target_range_all( x, target_min=-0.02*pi, target_max=2.02*pi ) :\n",
    "    x02 = K.tanh(x) + 1 # x in range(0,2)\n",
    "    scale = ( target_max-target_min )/2.\n",
    "    return  x02 * scale + target_min\n",
    "\n",
    "def mapping_to_target_range_2pi( x, target_min=-0.00*pi, target_max=2.00*pi ) :\n",
    "    x02 = K.tanh(x) + 1 # x in range(0,2)\n",
    "    scale = ( target_max-target_min )/2.\n",
    "    return  x02 * scale + target_min\n",
    "    #return K.sigmoid(x)*target_max\n",
    "\n",
    "def mapping_to_target_range_pi( x, target_min=-0.00*pi, target_max=1.00*pi ) :\n",
    "    x02 = K.tanh(x) + 1 # x in range(0,2)\n",
    "    scale = ( target_max-target_min )/2.\n",
    "    return  x02 * scale + target_min\n",
    "    #return K.sigmoid(x)*target_max\n",
    "\n",
    "def mapping_to_target_range_phi( x, target_min=0, target_max=2*pi ) :\n",
    "    print('is x keras tensor:', K.is_keras_tensor(x))\n",
    "    print('x shape = ',K.int_shape(x))\n",
    "    print('x shape = ',K.shape(x))\n",
    "    #phi = K.placeholder(shape=(None,1))\n",
    "    phi = Input([1])\n",
    "    #theta = K.placeholder(shape=(None,1))\n",
    "    theta = Input([1])\n",
    "    #r = K.placeholder(shape=(None,1))\n",
    "    r = Input([1])\n",
    "    print('phi shape = ',K.int_shape(phi))\n",
    "    print('is phi keras tensor:', K.is_keras_tensor(phi))\n",
    "    phi = K.concatenate([phi, [K.tanh(x[:,1]) + 1]], axis=0) # x in range(0,2)\n",
    "    #phi = K.tanh(x[:,1]) + 1\n",
    "    theta = K.concatenate([theta, [x[:,0]]], axis=0)\n",
    "    #theta = x[:,0]\n",
    "    r = K.concatenate([r, [x[:,2]]], axis=0)\n",
    "    #r = x[:,2]\n",
    "    print('phi shape = ',K.int_shape(phi))\n",
    "    print('is phi keras tensor:', K.is_keras_tensor(phi))\n",
    "    print('theta shape = ',K.int_shape(theta))\n",
    "    print('r shape = ',K.int_shape(r))\n",
    "    scale = ( target_max-target_min )/2.\n",
    "    phi =  phi * scale + target_min\n",
    "    #phi = K.cast(phi, dtype='int32')\n",
    "    #phi = K.reshape(phi, (,1))\n",
    "    print('phi shape = ',K.int_shape(phi))\n",
    "    \n",
    "    res = K.concatenate([theta, phi, r], axis=1)\n",
    "    print('res shape = ',K.int_shape(res))\n",
    "    print('res shape = ',K.shape(res))\n",
    "    print('is res keras tensor:', K.is_keras_tensor(res))\n",
    "    x[:,1].assign(phi)\n",
    "    return x\n",
    "\n",
    "def mapping_to_target_range_phi2( x, target_min=0, target_max=2*pi ) :\n",
    "    scale = ( target_max-target_min )/2.\n",
    "    phi = K.placeholder(shape=(None,1))\n",
    "    #phi = Input([1])\n",
    "    #phi = (K.tanh(x[:,1]) + 1)*scale + target_min\n",
    "    phi = K.concatenate([phi, [(K.tanh(x[:,1]) + 1)*scale + target_min]], axis=0)\n",
    "    x[:,1].assign(phi)\n",
    "    return x"
   ]
  },
  {
   "cell_type": "code",
   "execution_count": 18,
   "metadata": {},
   "outputs": [],
   "source": [
    "### This is a test cell. Go to LSTM cell below\n",
    "def createModel():\n",
    "    #model = Sequential()\n",
    "    in_put = Input(shape=(3300,))\n",
    "    \n",
    "    layer1 = Dense(2048, activation='relu')(in_put)\n",
    "    layer2 = Dense(1024, activation='relu')(layer1)\n",
    "    layer2 = Dropout(0.05)(layer2)\n",
    "    layer3 = Dense(512, activation='relu')(layer2)\n",
    "    layer3 = Dropout(0.03)(layer3)\n",
    "    layer4 = Dense(64, activation='relu')(layer3)\n",
    "    layer4 = Dropout(0.03)(layer4)\n",
    "    out_put = Dense(5, activation=None)(layer4)\n",
    "    \n",
    "    sinT = Lambda(lambda x: x[:,0], output_shape=(1,))(out_put)\n",
    "    sinT = Activation(activation='sigmoid')(sinT)\n",
    "    cosT = Lambda(lambda x: x[:,1], output_shape=(1,))(out_put)\n",
    "    cosT = Activation(activation=mapping_to_pmOne)(cosT)\n",
    "    \n",
    "    sinP = Lambda(lambda x: x[:,2], output_shape=(1,))(out_put)\n",
    "    sinP = Activation(activation=mapping_to_pmOne)(sinP)\n",
    "    cosP = Lambda(lambda x: x[:,3], output_shape=(1,))(out_put)\n",
    "    cosP = Activation(activation=mapping_to_pmOne)(cosP)\n",
    "   \n",
    "    r = Lambda(lambda x: x[:,4], output_shape=(1,))(out_put)\n",
    "    r = Activation(activation=mapping_to_0_50)(r)\n",
    "\n",
    "    print('sinP shape = ',K.int_shape(sinP))\n",
    "    print('is sinP keras tensor:', K.is_keras_tensor(sinP))\n",
    "    print('r shape = ',K.int_shape(r))\n",
    "    out_put_a = Lambda(lambda x: K.stack([x[0], x[1], x[2], x[3], x[4]], axis=1),output_shape=(5,),  name=\"output\")([sinT, cosT, sinP, cosP, r])\n",
    "    print('is out_put_a keras tensor:', K.is_keras_tensor(out_put_a))\n",
    "    print('out_put_a shape = ',K.int_shape(out_put_a))\n",
    "    print('out_put_a shape = ',K.shape(out_put_a))\n",
    "    \n",
    "    model = Model(inputs=in_put, outputs=out_put_a)\n",
    "    return model"
   ]
  },
  {
   "cell_type": "code",
   "execution_count": 61,
   "metadata": {},
   "outputs": [],
   "source": [
    "### This is a test cell. Go to LSTM model below\n",
    "def createModel():\n",
    "    #model = Sequential()\n",
    "    in_put = Input(shape=(4400,))\n",
    "    layer0 = Dense(1024, activation='relu')(in_put)\n",
    "    layer0 = Dropout(0.25)(layer0)\n",
    "    layer1 = Dense(1024, activation='relu')(layer0)\n",
    "    layer1 = Dropout(0.25)(layer1)\n",
    "    layer2 = Dense(512, activation='relu')(layer1)\n",
    "    layer2 = Dropout(0.1)(layer2)\n",
    "    layer3 = Dense(64, activation='relu')(layer2)\n",
    "    #layer3 = Dropout(0.04)(layer3)\n",
    "    out_put = Dense(3)(layer3)\n",
    "    \n",
    "    model = Model(inputs=in_put, outputs=out_put)\n",
    "    return model"
   ]
  },
  {
   "cell_type": "code",
   "execution_count": 7,
   "metadata": {},
   "outputs": [],
   "source": [
    "### This is the development LSTM model\n",
    "def createModel():\n",
    "    N=3300\n",
    "    lstm_seq = 300\n",
    "    lstm_steps = int(N/lstm_seq)\n",
    "    model = Sequential()\n",
    "    \n",
    "    model.add(Reshape(input_shape=(N,), target_shape=(lstm_steps,lstm_seq)))\n",
    "    \n",
    "    model.add(Masking(mask_value=-1, input_shape=(lstm_steps, lstm_seq)))\n",
    "    \n",
    "    model.add(Bidirectional(LSTM(75, return_sequences=True, input_shape=(lstm_steps,lstm_seq), dropout=0.0)))\n",
    "    model.add(Bidirectional(LSTM(75, return_sequences=True, input_shape=(lstm_steps,lstm_seq), dropout=0.0)))\n",
    "    model.add(Bidirectional(LSTM(75, return_sequences=True, input_shape=(lstm_steps,lstm_seq), dropout=0.0)))\n",
    "    model.add(Bidirectional(LSTM(75, return_sequences=True, input_shape=(lstm_steps,lstm_seq), dropout=0.0)))\n",
    "    model.add(Bidirectional(LSTM(75, return_sequences=True, input_shape=(lstm_steps,lstm_seq), dropout=0.0)))\n",
    "    model.add(Bidirectional(LSTM(75, return_sequences=True, input_shape=(lstm_steps,lstm_seq), dropout=0.0)))\n",
    "    model.add(Bidirectional(LSTM(75, input_shape=(lstm_steps,lstm_seq), dropout=0.0)))\n",
    "    \n",
    "    model.add(Dense(256, activation='relu'))\n",
    "    #model.add(Dropout(0.1))\n",
    "    model.add(Dense(256, activation='relu'))\n",
    "    #model.add(Dropout(0.1))\n",
    "    model.add(Dense(3, activation=mapping_to_pm50))\n",
    "    \n",
    "    return model"
   ]
  },
  {
   "cell_type": "code",
   "execution_count": 8,
   "metadata": {},
   "outputs": [],
   "source": [
    "my_network=createModel()"
   ]
  },
  {
   "cell_type": "code",
   "execution_count": 9,
   "metadata": {},
   "outputs": [
    {
     "name": "stdout",
     "output_type": "stream",
     "text": [
      "Model: \"sequential_1\"\n",
      "_________________________________________________________________\n",
      "Layer (type)                 Output Shape              Param #   \n",
      "=================================================================\n",
      "reshape_1 (Reshape)          (None, 11, 300)           0         \n",
      "_________________________________________________________________\n",
      "masking_1 (Masking)          (None, 11, 300)           0         \n",
      "_________________________________________________________________\n",
      "bidirectional_1 (Bidirection (None, 11, 150)           225600    \n",
      "_________________________________________________________________\n",
      "bidirectional_2 (Bidirection (None, 11, 150)           135600    \n",
      "_________________________________________________________________\n",
      "bidirectional_3 (Bidirection (None, 11, 150)           135600    \n",
      "_________________________________________________________________\n",
      "bidirectional_4 (Bidirection (None, 11, 150)           135600    \n",
      "_________________________________________________________________\n",
      "bidirectional_5 (Bidirection (None, 11, 150)           135600    \n",
      "_________________________________________________________________\n",
      "bidirectional_6 (Bidirection (None, 11, 150)           135600    \n",
      "_________________________________________________________________\n",
      "bidirectional_7 (Bidirection (None, 150)               135600    \n",
      "_________________________________________________________________\n",
      "dense_1 (Dense)              (None, 256)               38656     \n",
      "_________________________________________________________________\n",
      "dense_2 (Dense)              (None, 256)               65792     \n",
      "_________________________________________________________________\n",
      "dense_3 (Dense)              (None, 3)                 771       \n",
      "=================================================================\n",
      "Total params: 1,144,419\n",
      "Trainable params: 1,144,419\n",
      "Non-trainable params: 0\n",
      "_________________________________________________________________\n"
     ]
    }
   ],
   "source": [
    "my_network.summary()"
   ]
  },
  {
   "cell_type": "code",
   "execution_count": null,
   "metadata": {},
   "outputs": [],
   "source": [
    "batch_size = NEvts\n",
    "epochs = 2\n",
    "\n",
    "def mean_abs_theta_vtx(y_true, y_pred):\n",
    "    return K.mean(K.abs(y_true[:,0] - y_pred[:,0]))\n",
    "def mean_abs_phi_vtx(y_true, y_pred):\n",
    "    return K.mean(K.abs(y_true[:,1] - y_pred[:,1]))\n",
    "def mean_abs_r_vtx(y_true, y_pred):\n",
    "    return K.mean(K.abs(y_true[:,2] - y_pred[:,2]))\n",
    "def mean_abs_theta_dir(y_true, y_pred):\n",
    "    return K.mean(K.abs(y_true[:,3] - y_pred[:,3]))\n",
    "def mean_abs_phi_dir(y_true, y_pred):\n",
    "    return K.mean(K.abs(y_true[:,4] - y_pred[:,4]))\n",
    "\n",
    "\n",
    "my_network.compile(optimizer=Adam(lr=1e-4), loss='mean_squared_error')#, \n",
    "                   #metrics=['mean_squared_error', mean_abs_theta_vtx, mean_abs_phi_vtx, mean_abs_r_vtx])#, \n",
    "                                                  #mean_abs_theta_dir, mean_abs_phi_dir])\n",
    "\n",
    "my_network.load_weights(\"weights_vtx_only_nocolor_7xLSTM75_f552_lr1e-4_0p5mSphere_0p0ns_0p0nm_norm_N4epochs.h5\")\n",
    "\n",
    "history = my_network.fit_generator(generator=training_generator, epochs=epochs, \n",
    "                    validation_data=testing_generator) \n"
   ]
  },
  {
   "cell_type": "code",
   "execution_count": 11,
   "metadata": {},
   "outputs": [],
   "source": [
    "my_network.save_weights(\"weights_vtx_only_nocolor_7xLSTM75_f552_lr1e-4_0p5mSphere_0p0ns_0p0nm_norm_N5epochs.h5\")"
   ]
  },
  {
   "cell_type": "code",
   "execution_count": null,
   "metadata": {},
   "outputs": [],
   "source": [
    "# Loss Curves\n",
    "plt.figure(figsize=[8,6])\n",
    "plt.plot(history.history['loss'],'r',linewidth=3.0)\n",
    "plt.plot(history.history['val_loss'],'b',linewidth=3.0)\n",
    "plt.legend(['Training loss', 'Validation Loss'],fontsize=18)\n",
    "plt.xlabel('Epochs ',fontsize=16)\n",
    "plt.ylabel('Loss',fontsize=16)\n",
    "plt.title('Loss Curves',fontsize=16)\n",
    " "
   ]
  },
  {
   "cell_type": "code",
   "execution_count": 13,
   "metadata": {},
   "outputs": [],
   "source": [
    "def load_test_data_to_memory(x_dir) :\n",
    "    X, Y = np.array([]), np.array([])\n",
    "    f_list = os.listdir(x_dir)\n",
    "    for x in f_list :\n",
    "        batch_data = np.load(os.path.join(x_dir, x))\n",
    "        #print(np.array(batch_data['x']).shape)\n",
    "        #print(np.array(batch_data['y']).shape)\n",
    "        #print(np.array(batch_data['y']))\n",
    "        print(x)\n",
    "        X = np.vstack([X, np.array(batch_data['x'])]) if X.size else np.array(batch_data['x'])\n",
    "        Y = np.vstack([Y, np.array(batch_data['y'])]) if Y.size else np.array(batch_data['y'])\n",
    "        #print(X.shape, '   ', Y.shape)\n",
    "    #Y = np.hstack(( np.sin(Y[:,0]).reshape(10000,1), np.cos(Y[:,0]).reshape(10000,1), np.sin(Y[:,1]).reshape(10000,1), np.cos(Y[:,1]).reshape(10000,1), Y[:,2].reshape(10000,1) ))\n",
    "    print(X.shape, '   ', Y.shape)\n",
    "    return X, Y"
   ]
  },
  {
   "cell_type": "code",
   "execution_count": 14,
   "metadata": {},
   "outputs": [
    {
     "name": "stdout",
     "output_type": "stream",
     "text": [
      "f_batch_18.npz\n",
      "f_batch_16.npz\n",
      "f_batch_11.npz\n",
      "f_batch_9.npz\n",
      "f_batch_7.npz\n",
      "f_batch_10.npz\n",
      "f_batch_17.npz\n",
      "f_batch_19.npz\n",
      "f_batch_1.npz\n",
      "f_batch_6.npz\n",
      "f_batch_8.npz\n",
      "f_batch_5.npz\n",
      "f_batch_2.npz\n",
      "f_batch_14.npz\n",
      "f_batch_13.npz\n",
      "f_batch_3.npz\n",
      "f_batch_4.npz\n",
      "f_batch_20.npz\n",
      "f_batch_12.npz\n",
      "f_batch_15.npz\n",
      "(20000, 3300)     (20000, 3)\n"
     ]
    }
   ],
   "source": [
    "testX, testY = load_test_data_to_memory('/data/Elagin/vtx_xyz_nocolor_test_norm/')"
   ]
  },
  {
   "cell_type": "code",
   "execution_count": 15,
   "metadata": {
    "scrolled": true
   },
   "outputs": [
    {
     "name": "stdout",
     "output_type": "stream",
     "text": [
      "shape recoY =  (20000, 3)    shape testY =  (20000, 3)\n",
      "ThetaMean_vtx =  0.023316353658762126\n"
     ]
    },
    {
     "data": {
      "text/plain": [
       "(array([ 145.,  440.,  659.,  862., 1054., 1193., 1320., 1400., 1475.,\n",
       "        1549., 1492., 1493., 1396., 1271., 1153., 1041.,  818.,  657.,\n",
       "         410.,  172.]),\n",
       " array([-50., -45., -40., -35., -30., -25., -20., -15., -10.,  -5.,   0.,\n",
       "          5.,  10.,  15.,  20.,  25.,  30.,  35.,  40.,  45.,  50.]),\n",
       " <a list of 1 Patch objects>)"
      ]
     },
     "execution_count": 15,
     "metadata": {},
     "output_type": "execute_result"
    },
    {
     "data": {
      "image/png": "[encoded data removed]",
      "text/plain": [
       "<Figure size 432x288 with 1 Axes>"
      ]
     },
     "metadata": {
      "needs_background": "light"
     },
     "output_type": "display_data"
    },
    {
     "data": {
      "image/png": "[encoded data removed]",
      "text/plain": [
       "<Figure size 432x288 with 1 Axes>"
      ]
     },
     "metadata": {
      "needs_background": "light"
     },
     "output_type": "display_data"
    },
    {
     "data": {
      "image/png": "[encoded data removed]",
      "text/plain": [
       "<Figure size 432x288 with 1 Axes>"
      ]
     },
     "metadata": {
      "needs_background": "light"
     },
     "output_type": "display_data"
    },
    {
     "data": {
      "image/png": "[encoded data removed]",
      "text/plain": [
       "<Figure size 432x288 with 1 Axes>"
      ]
     },
     "metadata": {
      "needs_background": "light"
     },
     "output_type": "display_data"
    }
   ],
   "source": [
    "recoY = my_network.predict(testX)\n",
    "\n",
    "print('shape recoY = ', recoY.shape, '   shape testY = ', testY.shape)\n",
    "\n",
    "\n",
    "dTheta_vtx = recoY[:,1] - testY[:,1]\n",
    "print('ThetaMean_vtx = ',np.mean(dTheta_vtx))\n",
    "\n",
    "fig1 = plt.figure()\n",
    "plt.hist(dTheta_vtx, bins=40, range=(-20,20), histtype='step',ls='solid', alpha = 1.0, lw=3, color= 'r')\n",
    "\n",
    "fig_sinT = plt.figure()\n",
    "plt.hist(recoY[:,0], bins=20, range=(-50,50), histtype='step',ls='--', alpha = 1.0, lw=3, color= 'r')\n",
    "plt.hist(testY[:,0], bins=20, range=(-50,50), histtype='step',ls='solid', alpha = 1.0, lw=3, color= 'r')\n",
    "\n",
    "fig_cosT = plt.figure()\n",
    "plt.hist(recoY[:,1], bins=20, range=(-50,50), histtype='step',ls='--', alpha = 1.0, lw=3, color= 'g')\n",
    "plt.hist(testY[:,1], bins=20, range=(-50,50), histtype='step',ls='solid', alpha = 1.0, lw=3, color= 'g')\n",
    "\n",
    "fig_sinP = plt.figure()\n",
    "plt.hist(recoY[:,2], bins=20, range=(-50,50), histtype='step',ls='--', alpha = 1.0, lw=3, color= 'r')\n",
    "plt.hist(testY[:,2], bins=20, range=(-50,50), histtype='step',ls='solid', alpha = 1.0, lw=3, color= 'r')\n",
    "\n",
    "#fig_cosP = plt.figure()\n",
    "#plt.hist(recoY[:,3], bins=20, range=(-12,12), histtype='step',ls='--', alpha = 1.0, lw=3, color= 'g')\n",
    "#plt.hist(testY[:,3], bins=20, range=(-12,12), histtype='step',ls='solid', alpha = 1.0, lw=3, color= 'g')\n",
    "\n",
    "\n",
    "#fig_R = plt.figure()\n",
    "#plt.hist(np.abs(recoY[:,4]), bins=20, range=(0,60), histtype='step',ls='--', alpha = 1.0, lw=3, color= 'b')\n",
    "#plt.hist(testY[:,4], bins=20, range=(0,60), histtype='step',ls='solid', alpha = 1.0, lw=3, color= 'b')\n"
   ]
  },
  {
   "cell_type": "code",
   "execution_count": null,
   "metadata": {},
   "outputs": [],
   "source": []
  }
 ],
 "metadata": {
  "kernelspec": {
   "display_name": "Python 3",
   "language": "python",
   "name": "python3"
  },
  "language_info": {
   "codemirror_mode": {
    "name": "ipython",
    "version": 3
   },
   "file_extension": ".py",
   "mimetype": "text/x-python",
   "name": "python",
   "nbconvert_exporter": "python",
   "pygments_lexer": "ipython3",
   "version": "3.5.2"
  }
 },
 "nbformat": 4,
 "nbformat_minor": 4
}
